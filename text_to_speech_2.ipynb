{
  "cells": [
    {
      "cell_type": "code",
      "execution_count": null,
      "metadata": {
        "colab": {
          "base_uri": "https://localhost:8080/"
        },
        "id": "-idb5Ubu5Ruf",
        "outputId": "2422e1ef-4932-49e2-ed81-7f0ffe0cdc16"
      },
      "outputs": [
        {
          "name": "stdout",
          "output_type": "stream",
          "text": [
            "Requirement already satisfied: streamlit in /usr/local/lib/python3.10/dist-packages (1.31.0)\n",
            "Requirement already satisfied: altair<6,>=4.0 in /usr/local/lib/python3.10/dist-packages (from streamlit) (4.2.2)\n",
            "Requirement already satisfied: blinker<2,>=1.0.0 in /usr/lib/python3/dist-packages (from streamlit) (1.4)\n",
            "Requirement already satisfied: cachetools<6,>=4.0 in /usr/local/lib/python3.10/dist-packages (from streamlit) (5.3.2)\n",
            "Requirement already satisfied: click<9,>=7.0 in /usr/local/lib/python3.10/dist-packages (from streamlit) (8.1.7)\n",
            "Requirement already satisfied: importlib-metadata<8,>=1.4 in /usr/local/lib/python3.10/dist-packages (from streamlit) (7.0.1)\n",
            "Requirement already satisfied: numpy<2,>=1.19.3 in /usr/local/lib/python3.10/dist-packages (from streamlit) (1.23.5)\n",
            "Requirement already satisfied: packaging<24,>=16.8 in /usr/local/lib/python3.10/dist-packages (from streamlit) (23.2)\n",
            "Requirement already satisfied: pandas<3,>=1.3.0 in /usr/local/lib/python3.10/dist-packages (from streamlit) (1.5.3)\n",
            "Requirement already satisfied: pillow<11,>=7.1.0 in /usr/local/lib/python3.10/dist-packages (from streamlit) (9.4.0)\n",
            "Requirement already satisfied: protobuf<5,>=3.20 in /usr/local/lib/python3.10/dist-packages (from streamlit) (3.20.3)\n",
            "Requirement already satisfied: pyarrow>=7.0 in /usr/local/lib/python3.10/dist-packages (from streamlit) (10.0.1)\n",
            "Requirement already satisfied: python-dateutil<3,>=2.7.3 in /usr/local/lib/python3.10/dist-packages (from streamlit) (2.8.2)\n",
            "Requirement already satisfied: requests<3,>=2.27 in /usr/local/lib/python3.10/dist-packages (from streamlit) (2.31.0)\n",
            "Requirement already satisfied: rich<14,>=10.14.0 in /usr/local/lib/python3.10/dist-packages (from streamlit) (13.7.0)\n",
            "Requirement already satisfied: tenacity<9,>=8.1.0 in /usr/local/lib/python3.10/dist-packages (from streamlit) (8.2.3)\n",
            "Requirement already satisfied: toml<2,>=0.10.1 in /usr/local/lib/python3.10/dist-packages (from streamlit) (0.10.2)\n",
            "Requirement already satisfied: typing-extensions<5,>=4.3.0 in /usr/local/lib/python3.10/dist-packages (from streamlit) (4.9.0)\n",
            "Requirement already satisfied: tzlocal<6,>=1.1 in /usr/local/lib/python3.10/dist-packages (from streamlit) (5.2)\n",
            "Requirement already satisfied: validators<1,>=0.2 in /usr/local/lib/python3.10/dist-packages (from streamlit) (0.22.0)\n",
            "Requirement already satisfied: gitpython!=3.1.19,<4,>=3.0.7 in /usr/local/lib/python3.10/dist-packages (from streamlit) (3.1.41)\n",
            "Requirement already satisfied: pydeck<1,>=0.8.0b4 in /usr/local/lib/python3.10/dist-packages (from streamlit) (0.8.1b0)\n",
            "Requirement already satisfied: tornado<7,>=6.0.3 in /usr/local/lib/python3.10/dist-packages (from streamlit) (6.3.2)\n",
            "Requirement already satisfied: watchdog>=2.1.5 in /usr/local/lib/python3.10/dist-packages (from streamlit) (4.0.0)\n",
            "Requirement already satisfied: entrypoints in /usr/local/lib/python3.10/dist-packages (from altair<6,>=4.0->streamlit) (0.4)\n",
            "Requirement already satisfied: jinja2 in /usr/local/lib/python3.10/dist-packages (from altair<6,>=4.0->streamlit) (3.1.3)\n",
            "Requirement already satisfied: jsonschema>=3.0 in /usr/local/lib/python3.10/dist-packages (from altair<6,>=4.0->streamlit) (4.19.2)\n",
            "Requirement already satisfied: toolz in /usr/local/lib/python3.10/dist-packages (from altair<6,>=4.0->streamlit) (0.12.1)\n",
            "Requirement already satisfied: gitdb<5,>=4.0.1 in /usr/local/lib/python3.10/dist-packages (from gitpython!=3.1.19,<4,>=3.0.7->streamlit) (4.0.11)\n",
            "Requirement already satisfied: zipp>=0.5 in /usr/local/lib/python3.10/dist-packages (from importlib-metadata<8,>=1.4->streamlit) (3.17.0)\n",
            "Requirement already satisfied: pytz>=2020.1 in /usr/local/lib/python3.10/dist-packages (from pandas<3,>=1.3.0->streamlit) (2023.4)\n",
            "Requirement already satisfied: six>=1.5 in /usr/local/lib/python3.10/dist-packages (from python-dateutil<3,>=2.7.3->streamlit) (1.16.0)\n",
            "Requirement already satisfied: charset-normalizer<4,>=2 in /usr/local/lib/python3.10/dist-packages (from requests<3,>=2.27->streamlit) (3.3.2)\n",
            "Requirement already satisfied: idna<4,>=2.5 in /usr/local/lib/python3.10/dist-packages (from requests<3,>=2.27->streamlit) (3.6)\n",
            "Requirement already satisfied: urllib3<3,>=1.21.1 in /usr/local/lib/python3.10/dist-packages (from requests<3,>=2.27->streamlit) (2.0.7)\n",
            "Requirement already satisfied: certifi>=2017.4.17 in /usr/local/lib/python3.10/dist-packages (from requests<3,>=2.27->streamlit) (2024.2.2)\n",
            "Requirement already satisfied: markdown-it-py>=2.2.0 in /usr/local/lib/python3.10/dist-packages (from rich<14,>=10.14.0->streamlit) (3.0.0)\n",
            "Requirement already satisfied: pygments<3.0.0,>=2.13.0 in /usr/local/lib/python3.10/dist-packages (from rich<14,>=10.14.0->streamlit) (2.16.1)\n",
            "Requirement already satisfied: smmap<6,>=3.0.1 in /usr/local/lib/python3.10/dist-packages (from gitdb<5,>=4.0.1->gitpython!=3.1.19,<4,>=3.0.7->streamlit) (5.0.1)\n",
            "Requirement already satisfied: MarkupSafe>=2.0 in /usr/local/lib/python3.10/dist-packages (from jinja2->altair<6,>=4.0->streamlit) (2.1.5)\n",
            "Requirement already satisfied: attrs>=22.2.0 in /usr/local/lib/python3.10/dist-packages (from jsonschema>=3.0->altair<6,>=4.0->streamlit) (23.2.0)\n",
            "Requirement already satisfied: jsonschema-specifications>=2023.03.6 in /usr/local/lib/python3.10/dist-packages (from jsonschema>=3.0->altair<6,>=4.0->streamlit) (2023.12.1)\n",
            "Requirement already satisfied: referencing>=0.28.4 in /usr/local/lib/python3.10/dist-packages (from jsonschema>=3.0->altair<6,>=4.0->streamlit) (0.33.0)\n",
            "Requirement already satisfied: rpds-py>=0.7.1 in /usr/local/lib/python3.10/dist-packages (from jsonschema>=3.0->altair<6,>=4.0->streamlit) (0.17.1)\n",
            "Requirement already satisfied: mdurl~=0.1 in /usr/local/lib/python3.10/dist-packages (from markdown-it-py>=2.2.0->rich<14,>=10.14.0->streamlit) (0.1.2)\n"
          ]
        }
      ],
      "source": [
        "!pip install streamlit\n"
      ]
    },
    {
      "cell_type": "code",
      "execution_count": null,
      "metadata": {
        "colab": {
          "base_uri": "https://localhost:8080/"
        },
        "id": "in10nJkU6R9u",
        "outputId": "61528c89-e2dc-45c7-e3a9-38695ebfdb99"
      },
      "outputs": [
        {
          "name": "stdout",
          "output_type": "stream",
          "text": [
            "Requirement already satisfied: gTTS in /usr/local/lib/python3.10/dist-packages (2.5.1)\n",
            "Requirement already satisfied: requests<3,>=2.27 in /usr/local/lib/python3.10/dist-packages (from gTTS) (2.31.0)\n",
            "Requirement already satisfied: click<8.2,>=7.1 in /usr/local/lib/python3.10/dist-packages (from gTTS) (8.1.7)\n",
            "Requirement already satisfied: charset-normalizer<4,>=2 in /usr/local/lib/python3.10/dist-packages (from requests<3,>=2.27->gTTS) (3.3.2)\n",
            "Requirement already satisfied: idna<4,>=2.5 in /usr/local/lib/python3.10/dist-packages (from requests<3,>=2.27->gTTS) (3.6)\n",
            "Requirement already satisfied: urllib3<3,>=1.21.1 in /usr/local/lib/python3.10/dist-packages (from requests<3,>=2.27->gTTS) (2.0.7)\n",
            "Requirement already satisfied: certifi>=2017.4.17 in /usr/local/lib/python3.10/dist-packages (from requests<3,>=2.27->gTTS) (2024.2.2)\n"
          ]
        }
      ],
      "source": [
        "!pip install gTTS"
      ]
    },
    {
      "cell_type": "code",
      "execution_count": null,
      "metadata": {
        "colab": {
          "base_uri": "https://localhost:8080/"
        },
        "id": "02BtdTsW6Xje",
        "outputId": "e7a9b6a2-df2c-47ef-86a0-14c8c4d819b9"
      },
      "outputs": [
        {
          "name": "stdout",
          "output_type": "stream",
          "text": [
            "Requirement already satisfied: gtts in /usr/local/lib/python3.10/dist-packages (2.5.1)\n",
            "Requirement already satisfied: requests<3,>=2.27 in /usr/local/lib/python3.10/dist-packages (from gtts) (2.31.0)\n",
            "Requirement already satisfied: click<8.2,>=7.1 in /usr/local/lib/python3.10/dist-packages (from gtts) (8.1.7)\n",
            "Requirement already satisfied: charset-normalizer<4,>=2 in /usr/local/lib/python3.10/dist-packages (from requests<3,>=2.27->gtts) (3.3.2)\n",
            "Requirement already satisfied: idna<4,>=2.5 in /usr/local/lib/python3.10/dist-packages (from requests<3,>=2.27->gtts) (3.6)\n",
            "Requirement already satisfied: urllib3<3,>=1.21.1 in /usr/local/lib/python3.10/dist-packages (from requests<3,>=2.27->gtts) (2.0.7)\n",
            "Requirement already satisfied: certifi>=2017.4.17 in /usr/local/lib/python3.10/dist-packages (from requests<3,>=2.27->gtts) (2024.2.2)\n"
          ]
        }
      ],
      "source": [
        "!pip install gtts"
      ]
    },
    {
      "cell_type": "code",
      "execution_count": null,
      "metadata": {
        "colab": {
          "base_uri": "https://localhost:8080/"
        },
        "id": "GlrzEUAW6Bbt",
        "outputId": "950a991f-eb1f-4e86-83d4-c5edcdfb4a6e"
      },
      "outputs": [
        {
          "name": "stdout",
          "output_type": "stream",
          "text": [
            "Requirement already satisfied: playsound in /usr/local/lib/python3.10/dist-packages (1.3.0)\n"
          ]
        }
      ],
      "source": [
        "!pip install playsound"
      ]
    },
    {
      "cell_type": "code",
      "execution_count": null,
      "metadata": {
        "colab": {
          "background_save": true,
          "base_uri": "https://localhost:8080/"
        },
        "id": "VRL2Bgzk5TwV",
        "outputId": "659cd9e6-f694-475c-81e9-fba770ab5599"
      },
      "outputs": [
        {
          "name": "stdout",
          "output_type": "stream",
          "text": [
            "Overwriting app.py\n"
          ]
        }
      ],
      "source": [
        "%%writefile app.py\n",
        "import streamlit as st\n",
        "from gtts import gTTS\n",
        "from tempfile import NamedTemporaryFile\n",
        "from playsound import playsound\n",
        "\n",
        "def text_to_speech(text, language='en', slow=False):\n",
        "    tts = gTTS(text=text, lang=language, slow=slow)\n",
        "    with NamedTemporaryFile(delete=False) as tmp_file:\n",
        "        tts.save(tmp_file.name)\n",
        "        return tmp_file.name\n",
        "\n",
        "st.title(\"Text-to-Speech App\")\n",
        "\n",
        "input_text = st.text_input(\"Enter the text you want to convert to speech:\")\n",
        "slow_speed = st.checkbox(\"Slow down speech\")\n",
        "\n",
        "if st.button(\"Convert to Speech\"):\n",
        "    if input_text:\n",
        "        st.write(\"Converting text to speech...\")\n",
        "        audio_file = text_to_speech(input_text, slow=slow_speed)\n",
        "        st.audio(audio_file, format='audio/mp3')\n",
        "        playsound(audio_file, block=False)\n",
        "    else:\n",
        "        st.warning(\"Please enter some text!\")\n"
      ]
    },
    {
      "cell_type": "code",
      "execution_count": null,
      "metadata": {
        "colab": {
          "base_uri": "https://localhost:8080/"
        },
        "id": "9Q6yv8O06N-F",
        "outputId": "7b39622f-27ed-4739-c94b-6e26b2c28f0b"
      },
      "outputs": [
        {
          "name": "stdout",
          "output_type": "stream",
          "text": [
            "[..................] | fetchMetadata: sill resolveWithNewModule localtunnel@2.0\u001b[0m\u001b[K\n",
            "Collecting usage statistics. To deactivate, set browser.gatherUsageStats to False.\n",
            "\u001b[0m\n",
            "\u001b[0m\n",
            "\u001b[34m\u001b[1m  You can now view your Streamlit app in your browser.\u001b[0m\n",
            "\u001b[0m\n",
            "\u001b[34m  Network URL: \u001b[0m\u001b[1mhttp://172.28.0.12:8501\u001b[0m\n",
            "\u001b[34m  External URL: \u001b[0m\u001b[1mhttp://34.74.241.18:8501\u001b[0m\n",
            "\u001b[0m\n",
            "\u001b[K\u001b[?25hnpx: installed 22 in 4.804s\n",
            "your url is: https://spotty-doodles-walk.loca.lt\n",
            "playsound is relying on another python subprocess. Please use `pip install pygobject` if you want playsound to run more efficiently.\n",
            "2024-02-07 10:14:40.562 Session with id 57036b90-198b-4193-a895-1e72a5f2f8d9 is already connected! Connecting to a new session.\n",
            "2024-02-07 10:15:03.020 Session with id 5e243ed6-cd52-4a80-9996-c88871759cc6 is already connected! Connecting to a new session.\n",
            "Traceback (most recent call last):\n",
            "  File \"/usr/local/lib/python3.10/dist-packages/playsound.py\", line 261, in <module>\n",
            "    playsound(argv[1])\n",
            "  File \"/usr/local/lib/python3.10/dist-packages/playsound.py\", line 163, in _playsoundNix\n",
            "    gi.require_version('Gst', '1.0')\n",
            "  File \"/usr/lib/python3/dist-packages/gi/__init__.py\", line 126, in require_version\n",
            "    raise ValueError('Namespace %s not available' % namespace)\n",
            "ValueError: Namespace Gst not available\n",
            "2024-02-07 10:15:35.463 Session with id f0577c60-022e-415d-8332-dd5a133c7577 is already connected! Connecting to a new session.\n",
            "Traceback (most recent call last):\n",
            "  File \"/usr/local/lib/python3.10/dist-packages/playsound.py\", line 261, in <module>\n",
            "    playsound(argv[1])\n",
            "  File \"/usr/local/lib/python3.10/dist-packages/playsound.py\", line 163, in _playsoundNix\n",
            "    gi.require_version('Gst', '1.0')\n",
            "  File \"/usr/lib/python3/dist-packages/gi/__init__.py\", line 126, in require_version\n",
            "    raise ValueError('Namespace %s not available' % namespace)\n",
            "ValueError: Namespace Gst not available\n",
            "2024-02-07 10:16:03.220 Session with id c92ad4f5-11a9-4aa3-9a26-b23928056af3 is already connected! Connecting to a new session.\n",
            "Traceback (most recent call last):\n",
            "  File \"/usr/local/lib/python3.10/dist-packages/playsound.py\", line 261, in <module>\n",
            "    playsound(argv[1])\n",
            "  File \"/usr/local/lib/python3.10/dist-packages/playsound.py\", line 163, in _playsoundNix\n",
            "    gi.require_version('Gst', '1.0')\n",
            "  File \"/usr/lib/python3/dist-packages/gi/__init__.py\", line 126, in require_version\n",
            "    raise ValueError('Namespace %s not available' % namespace)\n",
            "ValueError: Namespace Gst not available\n",
            "2024-02-07 10:16:36.982 Session with id ff81e745-2e9d-4871-804a-5aa8e416e531 is already connected! Connecting to a new session.\n",
            "2024-02-07 10:17:02.487 Session with id bbb573d6-5f84-4756-9e64-639ba118abcd is already connected! Connecting to a new session.\n",
            "Traceback (most recent call last):\n",
            "  File \"/usr/local/lib/python3.10/dist-packages/playsound.py\", line 261, in <module>\n",
            "    playsound(argv[1])\n",
            "  File \"/usr/local/lib/python3.10/dist-packages/playsound.py\", line 163, in _playsoundNix\n",
            "    gi.require_version('Gst', '1.0')\n",
            "  File \"/usr/lib/python3/dist-packages/gi/__init__.py\", line 126, in require_version\n",
            "    raise ValueError('Namespace %s not available' % namespace)\n",
            "ValueError: Namespace Gst not available\n",
            "2024-02-07 10:17:36.916 Session with id 1b8bf379-4149-40ec-9a91-a3e307056e7c is already connected! Connecting to a new session.\n",
            "\u001b[34m  Stopping...\u001b[0m\n",
            "^C\n"
          ]
        }
      ],
      "source": [
        "!streamlit run app.py & npx localtunnel --port 8501\n"
      ]
    },
    {
      "cell_type": "code",
      "execution_count": null,
      "metadata": {
        "colab": {
          "base_uri": "https://localhost:8080/"
        },
        "id": "jlICZ8jMFGau",
        "outputId": "6c2d73e0-9dd2-4784-b39a-f743346c66c7"
      },
      "outputs": [
        {
          "name": "stdout",
          "output_type": "stream",
          "text": [
            "Writing login.py\n"
          ]
        }
      ],
      "source": [
        "%%writefile login.py\n",
        "\n",
        "import streamlit as st\n",
        "from gtts import gTTS\n",
        "from tempfile import NamedTemporaryFile\n",
        "from playsound import playsound\n",
        "\n",
        "def text_to_speech(text, language='en', speed=1, slow=False):\n",
        "    tts = gTTS(text=text, lang=language, slow=slow)\n",
        "    tts.speed = speed\n",
        "    with NamedTemporaryFile(delete=False) as tmp_file:\n",
        "        tts.save(tmp_file.name)\n",
        "        return tmp_file.name\n",
        "\n",
        "def login(username, password):\n",
        "    return username == 'dharmaraj' and password == 'soundatte'\n",
        "\n",
        "st.title(\"Text-to-Speech App\")\n",
        "\n",
        "username = st.sidebar.text_input(\"Username\")\n",
        "password = st.sidebar.text_input(\"Password\", type=\"password\")\n",
        "\n",
        "if login(username, password):\n",
        "    input_text = st.text_input(\"Enter the text you want to convert to speech:\")\n",
        "    slow_speed = st.checkbox(\"Slow down speech\")\n",
        "    speed = st.slider(\"Adjust Speed\", min_value=0.5, max_value=2.0, value=1.0, step=0.1)\n",
        "\n",
        "    if st.button(\"Convert to Speech\"):\n",
        "        if input_text:\n",
        "            st.write(\"Converting text to speech...\")\n",
        "            audio_file = text_to_speech(input_text, slow=slow_speed, speed=speed)\n",
        "            st.audio(audio_file, format='audio/mp3')\n",
        "            playsound(audio_file, block=False)\n",
        "        else:\n",
        "            st.warning(\"Please enter some text!\")\n",
        "else:\n",
        "    st.error(\"Incorrect username or password. Please try again.\")\n"
      ]
    },
    {
      "cell_type": "code",
      "execution_count": null,
      "metadata": {
        "colab": {
          "base_uri": "https://localhost:8080/"
        },
        "id": "U0ZdY0p36tTN",
        "outputId": "a5dc3086-9189-4c67-8c2c-52d43314b76a"
      },
      "outputs": [
        {
          "name": "stdout",
          "output_type": "stream",
          "text": [
            "\u001b[?25l[..................] / rollbackFailedOptional: verb npm-session ef5a6d957a695c7\u001b[0m\u001b[K\r[..................] / rollbackFailedOptional: verb npm-session ef5a6d957a695c7\u001b[0m\u001b[K\r\n",
            "Collecting usage statistics. To deactivate, set browser.gatherUsageStats to False.\n",
            "\u001b[0m\n",
            "\u001b[0m\n",
            "\u001b[34m\u001b[1m  You can now view your Streamlit app in your browser.\u001b[0m\n",
            "\u001b[0m\n",
            "\u001b[34m  Network URL: \u001b[0m\u001b[1mhttp://172.28.0.12:8501\u001b[0m\n",
            "\u001b[34m  External URL: \u001b[0m\u001b[1mhttp://34.68.31.146:8501\u001b[0m\n",
            "\u001b[0m\n",
            "\u001b[K\u001b[?25hnpx: installed 22 in 1.96s\n",
            "your url is: https://cool-eggs-lay.loca.lt\n",
            "playsound is relying on another python subprocess. Please use `pip install pygobject` if you want playsound to run more efficiently.\n",
            "\u001b[34m  Stopping...\u001b[0m\n",
            "^C\n"
          ]
        }
      ],
      "source": [
        "!streamlit run login.py & npx localtunnel --port 8501\n"
      ]
    },
    {
      "cell_type": "code",
      "execution_count": null,
      "metadata": {
        "id": "4fwMsG4PFdNB"
      },
      "outputs": [],
      "source": []
    }
  ],
  "metadata": {
    "accelerator": "GPU",
    "colab": {
      "provenance": []
    },
    "kernelspec": {
      "display_name": "Python 3",
      "name": "python3"
    },
    "language_info": {
      "name": "python"
    }
  },
  "nbformat": 4,
  "nbformat_minor": 0
}